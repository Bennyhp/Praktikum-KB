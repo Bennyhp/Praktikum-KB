{
 "cells": [
  {
   "cell_type": "code",
   "execution_count": 69,
   "metadata": {},
   "outputs": [],
   "source": [
    "import tensorflow as tf\n"
   ]
  },
  {
   "cell_type": "code",
   "execution_count": 70,
   "metadata": {},
   "outputs": [
    {
     "data": {
      "text/plain": [
       "<tf.Tensor: shape=(5, 5), dtype=float32, numpy=\n",
       "array([[-1.5378824e+00, -3.9098343e-01, -7.6787031e-01, -1.7393292e-01,\n",
       "         1.7150328e+00],\n",
       "       [ 4.1712043e-01,  9.7181523e-01,  6.4957571e-01, -1.3726435e+00,\n",
       "        -1.6776335e+00],\n",
       "       [-5.5602286e-02, -1.2650486e+00,  1.6875717e-01,  9.9819887e-01,\n",
       "         1.3863436e+00],\n",
       "       [-2.3242867e+00,  2.2864642e+00,  2.4255076e-01,  1.1581496e-03,\n",
       "        -8.6332768e-01],\n",
       "       [ 1.2785087e+00,  4.5997176e-02, -1.4320582e+00,  2.0788594e-01,\n",
       "        -1.5848538e-01]], dtype=float32)>"
      ]
     },
     "execution_count": 70,
     "metadata": {},
     "output_type": "execute_result"
    }
   ],
   "source": [
    "random_tensor = tf.random.normal([5,5], mean=0, stddev=1.0, seed=1421)\n",
    "random_tensor"
   ]
  },
  {
   "cell_type": "code",
   "execution_count": 71,
   "metadata": {},
   "outputs": [
    {
     "data": {
      "text/plain": [
       "<tf.Tensor: shape=(5, 5), dtype=float32, numpy=\n",
       "array([[ 2.,  3.,  5.,  7., 11.],\n",
       "       [13., 17., 19., 23., 29.],\n",
       "       [31., 37., 41., 43., 47.],\n",
       "       [53., 59., 61., 67., 71.],\n",
       "       [73., 79., 83., 89., 97.]], dtype=float32)>"
      ]
     },
     "execution_count": 71,
     "metadata": {},
     "output_type": "execute_result"
    }
   ],
   "source": [
    "list_prima = [[2, 3, 5, 7, 11], [13, 17, 19, 23, 29], [31, 37, 41, 43, 47], [53, 59, 61, 67, 71], [73, 79, 83, 89, 97]]\n",
    "prime_tensor = tf.convert_to_tensor(list_prima, dtype=tf.float32)\n",
    "prime_tensor"
   ]
  },
  {
   "cell_type": "code",
   "execution_count": 72,
   "metadata": {},
   "outputs": [
    {
     "name": "stdout",
     "output_type": "stream",
     "text": [
      "Dimensi variable random :  (5, 5)\n",
      "Dimensi variable prima  :  (5, 5)\n"
     ]
    }
   ],
   "source": [
    "dimensi_random = random_tensor.get_shape()\n",
    "dimensi_prima = prime_tensor.get_shape()\n",
    "\n",
    "print(\"Dimensi variable random : \", dimensi_random)\n",
    "print(\"Dimensi variable prima  : \", dimensi_prima)"
   ]
  },
  {
   "cell_type": "code",
   "execution_count": 73,
   "metadata": {},
   "outputs": [
    {
     "name": "stdout",
     "output_type": "stream",
     "text": [
      "Operator Penjumlahan dari variable random dan prime\n",
      "[[ 0.46211755  2.6090167   4.2321296   6.826067   12.715033  ]\n",
      " [13.41712    17.971815   19.649576   21.627357   27.322367  ]\n",
      " [30.944397   35.73495    41.16876    43.9982     48.386345  ]\n",
      " [50.675713   61.286465   61.24255    67.00116    70.13667   ]\n",
      " [74.27851    79.046      81.56794    89.207886   96.841515  ]]\n",
      "\n",
      "Operator Pengurangan dari variable random dan prime\n",
      "[[ -3.5378823  -3.3909833  -5.7678704  -7.173933   -9.284967 ]\n",
      " [-12.58288   -16.028185  -18.350424  -24.372643  -30.677633 ]\n",
      " [-31.055603  -38.26505   -40.83124   -42.0018    -45.613655 ]\n",
      " [-55.324287  -56.713535  -60.75745   -66.99884   -71.86333  ]\n",
      " [-71.72149   -78.954     -84.43206   -88.792114  -97.158485 ]]\n",
      "\n",
      "Operator Perkalian dari variable random dan prime\n",
      "[[-3.07576489e+00 -1.17295027e+00 -3.83935165e+00 -1.21753049e+00\n",
      "   1.88653603e+01]\n",
      " [ 5.42256546e+00  1.65208588e+01  1.23419380e+01 -3.15708008e+01\n",
      "  -4.86513710e+01]\n",
      " [-1.72367084e+00 -4.68068008e+01  6.91904402e+00  4.29225502e+01\n",
      "   6.51581497e+01]\n",
      " [-1.23187195e+02  1.34901382e+02  1.47955961e+01  7.75960237e-02\n",
      "  -6.12962646e+01]\n",
      " [ 9.33311310e+01  3.63377690e+00 -1.18860832e+02  1.85018482e+01\n",
      "  -1.53730822e+01]]\n",
      "\n",
      "Operator Pembagian dari variable random dan prime\n",
      "[[-7.6894122e-01 -1.3032781e-01 -1.5357406e-01 -2.4847561e-02\n",
      "   1.5591207e-01]\n",
      " [ 3.2086186e-02  5.7165600e-02  3.4188196e-02 -5.9680153e-02\n",
      "  -5.7849433e-02]\n",
      " [-1.7936222e-03 -3.4190502e-02  4.1160285e-03  2.3213927e-02\n",
      "   2.9496672e-02]\n",
      " [-4.3854468e-02  3.8753632e-02  3.9762422e-03  1.7285814e-05\n",
      "  -1.2159545e-02]\n",
      " [ 1.7513817e-02  5.8224273e-04 -1.7253714e-02  2.3357971e-03\n",
      "  -1.6338699e-03]]\n",
      "\n",
      "Operator Perpangkatan dari variable random dan prime\n",
      "[[ 2.3650825e+00 -5.9768874e-02 -2.6695579e-01 -4.8158463e-06\n",
      "   3.7756940e+02]\n",
      " [ 1.1571748e-05  6.1506766e-01  2.7540117e-04 -1.4582373e+03\n",
      "  -3.2825835e+06]\n",
      " [-0.0000000e+00 -5.9974561e+03  2.0785076e-32  9.2540985e-01\n",
      "   4.6551260e+06]\n",
      " [-2.5903232e+19  1.5513154e+21  2.9713999e-38  0.0000000e+00\n",
      "  -2.9408462e-05]\n",
      " [ 6.1569876e+07  0.0000000e+00 -8.8051317e+12  0.0000000e+00\n",
      "  -0.0000000e+00]]\n"
     ]
    }
   ],
   "source": [
    "add = tf.add(random_tensor, prime_tensor).numpy()\n",
    "subtract = tf.subtract(random_tensor, prime_tensor).numpy()\n",
    "multiply = tf.multiply(random_tensor, prime_tensor).numpy()\n",
    "divide = tf.divide(random_tensor, prime_tensor).numpy()\n",
    "power = tf.pow(random_tensor, prime_tensor).numpy()\n",
    "\n",
    "\n",
    "print(\"Operator Penjumlahan dari variable random dan prime\")\n",
    "print(add)\n",
    "\n",
    "print(\"\\nOperator Pengurangan dari variable random dan prime\")\n",
    "print(subtract)\n",
    "\n",
    "print(\"\\nOperator Perkalian dari variable random dan prime\")\n",
    "print(multiply)\n",
    "\n",
    "print(\"\\nOperator Pembagian dari variable random dan prime\")\n",
    "print(divide)\n",
    "\n",
    "print(\"\\nOperator Perpangkatan dari variable random dan prime\")\n",
    "print(power)"
   ]
  },
  {
   "cell_type": "code",
   "execution_count": 74,
   "metadata": {},
   "outputs": [
    {
     "name": "stdout",
     "output_type": "stream",
     "text": [
      "Inputan Tensor : \n",
      " [[-1.5378824e+00 -3.9098343e-01 -7.6787031e-01 -1.7393292e-01\n",
      "   1.7150328e+00]\n",
      " [ 4.1712043e-01  9.7181523e-01  6.4957571e-01 -1.3726435e+00\n",
      "  -1.6776335e+00]\n",
      " [-5.5602286e-02 -1.2650486e+00  1.6875717e-01  9.9819887e-01\n",
      "   1.3863436e+00]\n",
      " [-2.3242867e+00  2.2864642e+00  2.4255076e-01  1.1581496e-03\n",
      "  -8.6332768e-01]\n",
      " [ 1.2785087e+00  4.5997176e-02 -1.4320582e+00  2.0788594e-01\n",
      "  -1.5848538e-01]]\n",
      "\n",
      "\n",
      "Lokasi Nilai Max Dari Column [4 3 1 2 0]\n",
      "Lokasi Nilai Max Dari Row [4 1 4 1 0]\n",
      "Lokasi Nilai Min Dari Column [3 2 4 1 1]\n",
      "Lokasi Nilai Min Dari Row [0 4 1 0 2]\n"
     ]
    }
   ],
   "source": [
    "random_max_col = tf.argmax(random_tensor, axis = 0)\n",
    "random_max_row = tf.argmax(random_tensor, axis = 1)\n",
    "random_min_col = tf.argmin(random_tensor, axis = 0)\n",
    "random_min_row = tf.argmin(random_tensor, axis = 1)\n",
    "\n",
    "print(\"Inputan Tensor : \\n\",random_tensor.numpy())\n",
    "print(\"\\n\")\n",
    "print(\"Lokasi Nilai Max Dari Column\", random_max_col.numpy())\n",
    "print(\"Lokasi Nilai Max Dari Row\", random_max_row.numpy())\n",
    "print(\"Lokasi Nilai Min Dari Column\", random_min_col.numpy())\n",
    "print(\"Lokasi Nilai Min Dari Row\", random_min_row.numpy())"
   ]
  },
  {
   "cell_type": "code",
   "execution_count": 75,
   "metadata": {},
   "outputs": [
    {
     "name": "stdout",
     "output_type": "stream",
     "text": [
      "Dimensi variable random tensor :  (5, 5)\n",
      "Dimensi variable prime tensor  :  (5, 5)\n",
      "\n",
      "Dimensi setelah digabungkan (Dengan Axis Column)   :  (10, 5)\n",
      "Nilai pengabungan dari variable random dan prime   :\n",
      " [[-1.5378824e+00 -3.9098343e-01 -7.6787031e-01 -1.7393292e-01\n",
      "   1.7150328e+00]\n",
      " [ 4.1712043e-01  9.7181523e-01  6.4957571e-01 -1.3726435e+00\n",
      "  -1.6776335e+00]\n",
      " [-5.5602286e-02 -1.2650486e+00  1.6875717e-01  9.9819887e-01\n",
      "   1.3863436e+00]\n",
      " [-2.3242867e+00  2.2864642e+00  2.4255076e-01  1.1581496e-03\n",
      "  -8.6332768e-01]\n",
      " [ 1.2785087e+00  4.5997176e-02 -1.4320582e+00  2.0788594e-01\n",
      "  -1.5848538e-01]\n",
      " [ 2.0000000e+00  3.0000000e+00  5.0000000e+00  7.0000000e+00\n",
      "   1.1000000e+01]\n",
      " [ 1.3000000e+01  1.7000000e+01  1.9000000e+01  2.3000000e+01\n",
      "   2.9000000e+01]\n",
      " [ 3.1000000e+01  3.7000000e+01  4.1000000e+01  4.3000000e+01\n",
      "   4.7000000e+01]\n",
      " [ 5.3000000e+01  5.9000000e+01  6.1000000e+01  6.7000000e+01\n",
      "   7.1000000e+01]\n",
      " [ 7.3000000e+01  7.9000000e+01  8.3000000e+01  8.9000000e+01\n",
      "   9.7000000e+01]]\n",
      "\n",
      "Dimensi setelah digabungkan (Dengan Axis Row)      :  (5, 10)\n",
      "Nilai pengabungan dari variable random dan prime   :\n",
      " [[-1.5378824e+00 -3.9098343e-01 -7.6787031e-01 -1.7393292e-01\n",
      "   1.7150328e+00  2.0000000e+00  3.0000000e+00  5.0000000e+00\n",
      "   7.0000000e+00  1.1000000e+01]\n",
      " [ 4.1712043e-01  9.7181523e-01  6.4957571e-01 -1.3726435e+00\n",
      "  -1.6776335e+00  1.3000000e+01  1.7000000e+01  1.9000000e+01\n",
      "   2.3000000e+01  2.9000000e+01]\n",
      " [-5.5602286e-02 -1.2650486e+00  1.6875717e-01  9.9819887e-01\n",
      "   1.3863436e+00  3.1000000e+01  3.7000000e+01  4.1000000e+01\n",
      "   4.3000000e+01  4.7000000e+01]\n",
      " [-2.3242867e+00  2.2864642e+00  2.4255076e-01  1.1581496e-03\n",
      "  -8.6332768e-01  5.3000000e+01  5.9000000e+01  6.1000000e+01\n",
      "   6.7000000e+01  7.1000000e+01]\n",
      " [ 1.2785087e+00  4.5997176e-02 -1.4320582e+00  2.0788594e-01\n",
      "  -1.5848538e-01  7.3000000e+01  7.9000000e+01  8.3000000e+01\n",
      "   8.9000000e+01  9.7000000e+01]]\n"
     ]
    }
   ],
   "source": [
    "print(\"Dimensi variable random tensor : \", dimensi_random)\n",
    "print(\"Dimensi variable prime tensor  : \", dimensi_prima)\n",
    "\n",
    "concate_variable_col = tf.concat([random_tensor, prime_tensor], axis = 0)\n",
    "concate_variable_row = tf.concat([random_tensor, prime_tensor], axis = 1)\n",
    "\n",
    "print(\"\\nDimensi setelah digabungkan (Dengan Axis Column)   : \", concate_variable_col.shape)\n",
    "print(\"Nilai pengabungan dari variable random dan prime   :\\n\", concate_variable_col.numpy())\n",
    "\n",
    "print(\"\\nDimensi setelah digabungkan (Dengan Axis Row)      : \", concate_variable_row.shape)\n",
    "print(\"Nilai pengabungan dari variable random dan prime   :\\n\", concate_variable_row.numpy())"
   ]
  }
 ],
 "metadata": {
  "kernelspec": {
   "display_name": "Python 3.10.7 64-bit",
   "language": "python",
   "name": "python3"
  },
  "language_info": {
   "codemirror_mode": {
    "name": "ipython",
    "version": 3
   },
   "file_extension": ".py",
   "mimetype": "text/x-python",
   "name": "python",
   "nbconvert_exporter": "python",
   "pygments_lexer": "ipython3",
   "version": "3.10.7"
  },
  "orig_nbformat": 4,
  "vscode": {
   "interpreter": {
    "hash": "107d7b120a5b68773a87d4067e673630b35702e55ebab3138143d08b1c4d7cbc"
   }
  }
 },
 "nbformat": 4,
 "nbformat_minor": 2
}
